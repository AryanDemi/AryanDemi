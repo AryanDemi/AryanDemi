{
  "nbformat": 4,
  "nbformat_minor": 0,
  "metadata": {
    "colab": {
      "provenance": [],
      "authorship_tag": "ABX9TyPiYTLLBvzF++U+v0uI5M3G",
      "include_colab_link": true
    },
    "kernelspec": {
      "name": "python3",
      "display_name": "Python 3"
    },
    "language_info": {
      "name": "python"
    }
  },
  "cells": [
    {
      "cell_type": "markdown",
      "metadata": {
        "id": "view-in-github",
        "colab_type": "text"
      },
      "source": [
        "<a href=\"https://colab.research.google.com/github/AryanDemi/AryanDemi/blob/main/A2_22_Exp1.ipynb\" target=\"_parent\"><img src=\"https://colab.research.google.com/assets/colab-badge.svg\" alt=\"Open In Colab\"/></a>"
      ]
    },
    {
      "cell_type": "code",
      "source": [
        "## Software Lab Exp 1"
      ],
      "metadata": {
        "id": "59_1d2yMKw_c"
      },
      "execution_count": null,
      "outputs": []
    },
    {
      "cell_type": "code",
      "source": [
        "# Name: Aarsh Vaidya\n",
        "# Section: A1\n",
        "# Roll No: 01"
      ],
      "metadata": {
        "id": "kVl7B2JCIVvV"
      },
      "execution_count": null,
      "outputs": []
    },
    {
      "cell_type": "code",
      "execution_count": null,
      "metadata": {
        "colab": {
          "base_uri": "https://localhost:8080/"
        },
        "id": "zvi5mJ7wKeh7",
        "outputId": "caf52801-c08b-4a7a-b90a-254d563d6ef8"
      },
      "outputs": [
        {
          "output_type": "stream",
          "name": "stdout",
          "text": [
            "Enter input: 5\n",
            "3.106855\n"
          ]
        }
      ],
      "source": [
        "# Q1. Write a python program to convert from kilometers to miles. Use typecasting to float for input values.\n",
        "\n",
        "km = float(input(\"Enter input: \"))\n",
        "miles = km*0.621371\n",
        "print(miles)"
      ]
    },
    {
      "cell_type": "code",
      "source": [
        "# Q2. Write a python program to calculate area and circumference of a circle\n",
        "\n",
        "r = float(input(\"Enter radius: \"))\n",
        "area = 3.14*r*r\n",
        "circumference = 2*3.14*r\n",
        "print(area)\n",
        "print(circumference)"
      ],
      "metadata": {
        "colab": {
          "base_uri": "https://localhost:8080/"
        },
        "id": "sezQl5vXLU2I",
        "outputId": "c8bb4b98-15e2-414f-bcb2-06a027f7cca7"
      },
      "execution_count": null,
      "outputs": [
        {
          "output_type": "stream",
          "name": "stdout",
          "text": [
            "Enter radius: 5\n",
            "78.5\n",
            "31.400000000000002\n"
          ]
        }
      ]
    },
    {
      "cell_type": "code",
      "source": [
        "'''\n",
        "Q3. Write a python program to generate a grocery shop bill which accepts a payment from user:\n",
        "          Name, Quantity, Cost for three items\n",
        "    Compute the actual cost payable by applying discount in(%) and GST in (%). Print the bill in the following format:\n",
        "    Item Name Quantity Price:\n",
        "    ********************************\n",
        "    Total:\n",
        "    ********************************\n",
        "    Discount:\n",
        "    Tax:\n",
        "    ********************************\n",
        "    Payable Amount:\n",
        "    ********************************\n",
        "    '''\n",
        "name1 = str(input(\"Enter name of item 1:\"))\n",
        "name2 = str(input(\"Enter name of item 2:\"))\n",
        "name3 = str(input(\"Enter name of item 3:\"))\n",
        "quantity1 = int(input(\"Enter quantity of item 1:\"))\n",
        "quantity2 = int(input(\"Enter quantity of item 2:\"))\n",
        "quantity3 = int(input(\"Enter quantity of item 3:\"))\n",
        "price1 = float(input(\"Enter price of item 1:\"))\n",
        "price2 = float(input(\"Enter price of item 2:\"))\n",
        "price3 = float(input(\"Enter price of item 3:\"))\n",
        "\n",
        "sum = price1 + price2 + price3\n",
        "Discount = sum*0.05\n",
        "gst = sum*0.18\n",
        "Total = sum + gst - discount\n",
        "\n",
        "print(\"Item Name        Quantity        Price\")\n",
        "print(f\"1.{name1}             {quantity1}           {price1}\")\n",
        "print(f\"2.{name2}              {quantity2}          {price2}\")\n",
        "print(f\"3.{name3}              {quantity3}          {price3}\")\n",
        "\n",
        "print(f\"Total: {Total}\")\n",
        "\n",
        "print(f\"Discount: {Discount}\")\n",
        "\n",
        "print(f\"GST: {gst}\")"
      ],
      "metadata": {
        "colab": {
          "base_uri": "https://localhost:8080/"
        },
        "id": "fTv5AAQAMEvZ",
        "outputId": "b3fca6c5-60e0-45c3-99d9-8fd9e3c2ef9e"
      },
      "execution_count": null,
      "outputs": [
        {
          "output_type": "stream",
          "name": "stdout",
          "text": [
            "Enter name of item 1:Wheat\n",
            "Enter name of item 2:Rice\n",
            "Enter name of item 3:Daal\n",
            "Enter quantity of item 1:3\n",
            "Enter quantity of item 2:2\n",
            "Enter quantity of item 3:4\n",
            "Enter price of item 1:48\n",
            "Enter price of item 2:60\n",
            "Enter price of item 3:120\n",
            "Item Name        Quantity        Price\n",
            "1.Wheat             3           48.0\n",
            "2.Rice              2          60.0\n",
            "3.Daal              4          120.0\n",
            "Total: 257.64000000000004\n",
            "Discount: 11.4\n",
            "GST: 41.04\n"
          ]
        }
      ]
    },
    {
      "cell_type": "code",
      "source": [],
      "metadata": {
        "id": "C2tZPm_2RTVI"
      },
      "execution_count": null,
      "outputs": []
    }
  ]
}
