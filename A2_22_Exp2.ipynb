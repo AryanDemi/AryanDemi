{
  "nbformat": 4,
  "nbformat_minor": 0,
  "metadata": {
    "colab": {
      "provenance": [],
      "authorship_tag": "ABX9TyOpZmEY25stEhTTSWVM5MN/",
      "include_colab_link": true
    },
    "kernelspec": {
      "name": "python3",
      "display_name": "Python 3"
    },
    "language_info": {
      "name": "python"
    }
  },
  "cells": [
    {
      "cell_type": "markdown",
      "metadata": {
        "id": "view-in-github",
        "colab_type": "text"
      },
      "source": [
        "<a href=\"https://colab.research.google.com/github/AryanDemi/AryanDemi/blob/main/A2_22_Exp2.ipynb\" target=\"_parent\"><img src=\"https://colab.research.google.com/assets/colab-badge.svg\" alt=\"Open In Colab\"/></a>"
      ]
    },
    {
      "cell_type": "code",
      "execution_count": 1,
      "metadata": {
        "id": "OLrQEh4aUcz_"
      },
      "outputs": [],
      "source": [
        "## Software Lab Exp 2"
      ]
    },
    {
      "cell_type": "code",
      "source": [
        "# Name: Aryan Bokde\n",
        "# Section: A2\n",
        "# Roll No: 22"
      ],
      "metadata": {
        "id": "vjz9fv6qRZXg"
      },
      "execution_count": null,
      "outputs": []
    },
    {
      "cell_type": "code",
      "source": [
        "# This example returns the items from \"orange\" (-4) to, but inot including \"mango\"(-1)\n",
        "thislist = [\"apple\",\"banana\",\"cherry\",\"orange\",\"kiwi\",\"mango\"]\n",
        "print(thislist[-4:-2])"
      ],
      "metadata": {
        "colab": {
          "base_uri": "https://localhost:8080/"
        },
        "id": "pKIBylfAUhSx",
        "outputId": "1a9e3a0f-6bf7-4d93-a622-01821360859e"
      },
      "execution_count": null,
      "outputs": [
        {
          "output_type": "stream",
          "name": "stdout",
          "text": [
            "['cherry', 'orange']\n"
          ]
        }
      ]
    },
    {
      "cell_type": "code",
      "source": [
        "# Q1. Write a python program to count the occurence of vowels in a list.\n",
        "#     list = [\"s\",\"h\",\"r\",\"i,\"r\",\"a\",\"m\",\"d\",\"o\",\"e\",\"b\",\"a\",\"b\",\"a\",\"c\",\"o\",\"l\",\"l\",\"e\",\"g\",\"e\"]\n",
        "\n",
        "thislist = [\"s\",\"h\",\"r\",\"i\",\"r\",\"a\",\"m\",\"d\",\"o\",\"e\",\"b\",\"a\",\"b\",\"a\",\"c\",\"o\",\"l\",\"l\",\"e\",\"g\",\"e\"]\n",
        "vowels = [\"a\",\"e\",\"i\",\"o\",\"u\"]\n",
        "count = 0\n",
        "for i in thislist:\n",
        "  if i in vowels:\n",
        "    count += 1\n",
        "print(count)"
      ],
      "metadata": {
        "colab": {
          "base_uri": "https://localhost:8080/"
        },
        "id": "OpedgOU-VQOf",
        "outputId": "33669e26-9f29-4025-c5dd-17b30242672d"
      },
      "execution_count": null,
      "outputs": [
        {
          "output_type": "stream",
          "name": "stdout",
          "text": [
            "9\n"
          ]
        }
      ]
    },
    {
      "cell_type": "code",
      "source": [
        "# Q2. Given a list, slice it into two equal sized chunks. Your chunk size should be maximum size possible and reverse each chunk and print the list.\n",
        "# Hint: list = [1,2,3,4,5,6,7,8,9,1]\n",
        "\n",
        "thislist = [\"1\",\"2\",\"3\",\"4\",\"5\",\"6\",\"7\",\"8\",\"9\",\"1\"]\n",
        "chunk = len(thislist)//2\n",
        "chunk1 = [thislist[x] for x in range(chunk)]\n",
        "chunk2 = [thislist[x] for x in range(chunk,len(thislist))]\n",
        "print(chunk1)\n",
        "print(chunk2)"
      ],
      "metadata": {
        "colab": {
          "base_uri": "https://localhost:8080/"
        },
        "id": "2ZwvmOrGX4H_",
        "outputId": "91d3ec8a-b43c-4681-ad45-7b0f0b7da582"
      },
      "execution_count": null,
      "outputs": [
        {
          "output_type": "stream",
          "name": "stdout",
          "text": [
            "['1', '2', '3', '4', '5']\n",
            "['6', '7', '8', '9', '1']\n"
          ]
        }
      ]
    },
    {
      "cell_type": "code",
      "source": [
        "# Q3. Write a program to find the repeated items of a tuple.\n",
        "\n",
        "thislist = (1,2,3,2,6,2,4,3,9,7)\n",
        "count = 0\n",
        "for i in thislist:\n",
        "  if i == 2:\n",
        "    count+=1\n",
        "print(count)"
      ],
      "metadata": {
        "colab": {
          "base_uri": "https://localhost:8080/"
        },
        "id": "x-hGtTLvPKY1",
        "outputId": "6fcd20b8-f359-4df8-d866-850c67f27346"
      },
      "execution_count": null,
      "outputs": [
        {
          "output_type": "stream",
          "name": "stdout",
          "text": [
            "3\n"
          ]
        }
      ]
    },
    {
      "cell_type": "code",
      "source": [
        "# Q4. Write a python program to remove the punctuations from a string.\n",
        "\n",
        "string = \"This is a (python) ! lab\"\n",
        "punctuations = '\";:,<.>/?\\|[{]}`~!@#$%^&*()-_]'\n",
        "for x in string:\n",
        "  if x in punctuations:\n",
        "    string = string.replace(x,\"\")\n",
        "print(string)"
      ],
      "metadata": {
        "colab": {
          "base_uri": "https://localhost:8080/"
        },
        "id": "JKWM9ft1P1nP",
        "outputId": "298bf75e-a738-474d-f6a3-c53ab0aa7a61"
      },
      "execution_count": null,
      "outputs": [
        {
          "output_type": "stream",
          "name": "stdout",
          "text": [
            "This is a python  lab\n"
          ]
        }
      ]
    },
    {
      "cell_type": "code",
      "source": [
        "# Q5. Write a pythin program to sum all the items in a list.\n",
        "\n",
        "mylist = [1,2,3,2,6,2,4,3,9,7]\n",
        "sum = 0\n",
        "for i in mylist:\n",
        "  sum += i\n",
        "print(sum)"
      ],
      "metadata": {
        "colab": {
          "base_uri": "https://localhost:8080/"
        },
        "id": "XYuWL5RWRyQ3",
        "outputId": "71f0d8f8-07fe-4863-8807-1a581f84cb3e"
      },
      "execution_count": null,
      "outputs": [
        {
          "output_type": "stream",
          "name": "stdout",
          "text": [
            "39\n"
          ]
        }
      ]
    },
    {
      "cell_type": "code",
      "source": [
        "# Q6. Write a program to get the largest number from a list.\n",
        "\n",
        "mylist = [1,2,3,2,6,2,4,3,9,7]\n",
        "max = 0\n",
        "for i in mylist:\n",
        "  if i>max:\n",
        "    max = i\n",
        "print(max)"
      ],
      "metadata": {
        "colab": {
          "base_uri": "https://localhost:8080/"
        },
        "id": "p4bxGW9SS8cI",
        "outputId": "dea775e0-832f-46ab-d7ea-f3a9d4282181"
      },
      "execution_count": null,
      "outputs": [
        {
          "output_type": "stream",
          "name": "stdout",
          "text": [
            "9\n"
          ]
        }
      ]
    },
    {
      "cell_type": "code",
      "source": [
        "# Q7. Write a program to reverse the array.\n",
        "\n",
        "mylist = [1,2,3,2,6,2,4,3,9,7]\n",
        "mylist.reverse()\n",
        "print(mylist)"
      ],
      "metadata": {
        "colab": {
          "base_uri": "https://localhost:8080/"
        },
        "id": "ZL-0Umz6TxN_",
        "outputId": "d2a87487-f8f4-47a4-aa4f-ab1f276f5121"
      },
      "execution_count": null,
      "outputs": [
        {
          "output_type": "stream",
          "name": "stdout",
          "text": [
            "[7, 9, 3, 4, 2, 6, 2, 3, 2, 1]\n"
          ]
        }
      ]
    },
    {
      "cell_type": "code",
      "source": [
        "# Find the average of the list.\n",
        "\n",
        "mylist = [1,2,3,2,6,2,4,3,9,7]\n",
        "sum = 0\n",
        "for i in mylist:\n",
        "  sum += i\n",
        "print(sum)\n",
        "print(sum/len(mylist))"
      ],
      "metadata": {
        "colab": {
          "base_uri": "https://localhost:8080/"
        },
        "id": "4DYjeesrUAX9",
        "outputId": "93c578b9-f75c-4e46-de85-1b292f7cc8d6"
      },
      "execution_count": null,
      "outputs": [
        {
          "output_type": "stream",
          "name": "stdout",
          "text": [
            "39\n",
            "3.9\n"
          ]
        }
      ]
    },
    {
      "cell_type": "code",
      "source": [
        "\n"
      ],
      "metadata": {
        "id": "HZAtUixAUpe2"
      },
      "execution_count": null,
      "outputs": []
    }
  ]
}